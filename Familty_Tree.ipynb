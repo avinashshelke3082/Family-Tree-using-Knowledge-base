{
  "nbformat": 4,
  "nbformat_minor": 0,
  "metadata": {
    "colab": {
      "provenance": []
    },
    "kernelspec": {
      "name": "python3",
      "display_name": "Python 3"
    },
    "language_info": {
      "name": "python"
    }
  },
  "cells": [
    {
      "cell_type": "markdown",
      "source": [
        "This program parses family tree with python logic programming .\n",
        "sympy is a Python package that enables symbolic computation.\n",
        "Kanren provides pattern matching and unification on user defined types."
      ],
      "metadata": {
        "id": "rnozkHHv74PZ"
      }
    },
    {
      "cell_type": "code",
      "execution_count": 1,
      "metadata": {
        "colab": {
          "base_uri": "https://localhost:8080/"
        },
        "id": "marYZ7US5GEo",
        "outputId": "ead18499-8a3c-4ab4-f741-0b79ec986aa1"
      },
      "outputs": [
        {
          "output_type": "stream",
          "name": "stdout",
          "text": [
            "Package                       Version                Location                               Installer\n",
            "----------------------------- ---------------------- -------------------------------------- ---------\n",
            "absl-py                       1.3.0                  /usr/local/lib/python3.8/dist-packages pip\n",
            "aeppl                         0.0.33                 /usr/local/lib/python3.8/dist-packages pip\n",
            "aesara                        2.7.9                  /usr/local/lib/python3.8/dist-packages pip\n",
            "aiohttp                       3.8.3                  /usr/local/lib/python3.8/dist-packages pip\n",
            "aiosignal                     1.3.1                  /usr/local/lib/python3.8/dist-packages pip\n",
            "alabaster                     0.7.12                 /usr/local/lib/python3.8/dist-packages pip\n",
            "albumentations                1.2.1                  /usr/local/lib/python3.8/dist-packages pip\n",
            "altair                        4.2.0                  /usr/local/lib/python3.8/dist-packages pip\n",
            "appdirs                       1.4.4                  /usr/local/lib/python3.8/dist-packages pip\n",
            "arviz                         0.12.1                 /usr/local/lib/python3.8/dist-packages pip\n",
            "astor                         0.8.1                  /usr/local/lib/python3.8/dist-packages pip\n",
            "astropy                       4.3.1                  /usr/local/lib/python3.8/dist-packages pip\n",
            "astunparse                    1.6.3                  /usr/local/lib/python3.8/dist-packages pip\n",
            "async-timeout                 4.0.2                  /usr/local/lib/python3.8/dist-packages pip\n",
            "asynctest                     0.13.0                 /usr/local/lib/python3.8/dist-packages pip\n",
            "atari-py                      0.2.9                  /usr/local/lib/python3.8/dist-packages pip\n",
            "atomicwrites                  1.4.1                  /usr/local/lib/python3.8/dist-packages pip\n",
            "attrs                         22.1.0                 /usr/local/lib/python3.8/dist-packages pip\n",
            "audioread                     3.0.0                  /usr/local/lib/python3.8/dist-packages pip\n",
            "autograd                      1.5                    /usr/local/lib/python3.8/dist-packages pip\n",
            "Babel                         2.11.0                 /usr/local/lib/python3.8/dist-packages pip\n",
            "backcall                      0.2.0                  /usr/local/lib/python3.8/dist-packages pip\n",
            "beautifulsoup4                4.6.3                  /usr/local/lib/python3.8/dist-packages pip\n",
            "bleach                        5.0.1                  /usr/local/lib/python3.8/dist-packages pip\n",
            "blis                          0.7.9                  /usr/local/lib/python3.8/dist-packages pip\n",
            "bokeh                         2.3.3                  /usr/local/lib/python3.8/dist-packages pip\n",
            "branca                        0.6.0                  /usr/local/lib/python3.8/dist-packages pip\n",
            "bs4                           0.0.1                  /usr/local/lib/python3.8/dist-packages pip\n",
            "CacheControl                  0.12.11                /usr/local/lib/python3.8/dist-packages pip\n",
            "cached-property               1.5.2                  /usr/local/lib/python3.8/dist-packages pip\n",
            "cachetools                    5.2.0                  /usr/local/lib/python3.8/dist-packages pip\n",
            "catalogue                     2.0.8                  /usr/local/lib/python3.8/dist-packages pip\n",
            "certifi                       2022.9.24              /usr/local/lib/python3.8/dist-packages pip\n",
            "cffi                          1.15.1                 /usr/local/lib/python3.8/dist-packages pip\n",
            "cftime                        1.6.2                  /usr/local/lib/python3.8/dist-packages pip\n",
            "chardet                       3.0.4                  /usr/local/lib/python3.8/dist-packages pip\n",
            "charset-normalizer            2.1.1                  /usr/local/lib/python3.8/dist-packages pip\n",
            "click                         7.1.2                  /usr/local/lib/python3.8/dist-packages pip\n",
            "clikit                        0.6.2                  /usr/local/lib/python3.8/dist-packages pip\n",
            "cloudpickle                   1.5.0                  /usr/local/lib/python3.8/dist-packages pip\n",
            "cmake                         3.22.6                 /usr/local/lib/python3.8/dist-packages pip\n",
            "cmdstanpy                     1.0.8                  /usr/local/lib/python3.8/dist-packages pip\n",
            "colorcet                      3.0.1                  /usr/local/lib/python3.8/dist-packages pip\n",
            "colorlover                    0.3.0                  /usr/local/lib/python3.8/dist-packages pip\n",
            "community                     1.0.0b1                /usr/local/lib/python3.8/dist-packages pip\n",
            "confection                    0.0.3                  /usr/local/lib/python3.8/dist-packages pip\n",
            "cons                          0.4.5                  /usr/local/lib/python3.8/dist-packages pip\n",
            "contextlib2                   0.5.5                  /usr/local/lib/python3.8/dist-packages pip\n",
            "convertdate                   2.4.0                  /usr/local/lib/python3.8/dist-packages pip\n",
            "crashtest                     0.3.1                  /usr/local/lib/python3.8/dist-packages pip\n",
            "crcmod                        1.7                    /usr/local/lib/python3.8/dist-packages pip\n",
            "cufflinks                     0.17.3                 /usr/local/lib/python3.8/dist-packages pip\n",
            "cvxopt                        1.3.0                  /usr/local/lib/python3.8/dist-packages pip\n",
            "cvxpy                         1.2.2                  /usr/local/lib/python3.8/dist-packages pip\n",
            "cycler                        0.11.0                 /usr/local/lib/python3.8/dist-packages pip\n",
            "cymem                         2.0.7                  /usr/local/lib/python3.8/dist-packages pip\n",
            "Cython                        0.29.32                /usr/local/lib/python3.8/dist-packages pip\n",
            "daft                          0.0.4                  /usr/local/lib/python3.8/dist-packages pip\n",
            "dask                          2022.2.0               /usr/local/lib/python3.8/dist-packages pip\n",
            "datascience                   0.17.5                 /usr/local/lib/python3.8/dist-packages pip\n",
            "db-dtypes                     1.0.4                  /usr/local/lib/python3.8/dist-packages pip\n",
            "debugpy                       1.0.0                  /usr/local/lib/python3.8/dist-packages pip\n",
            "decorator                     4.4.2                  /usr/local/lib/python3.8/dist-packages pip\n",
            "defusedxml                    0.7.1                  /usr/local/lib/python3.8/dist-packages pip\n",
            "descartes                     1.1.0                  /usr/local/lib/python3.8/dist-packages pip\n",
            "dill                          0.3.6                  /usr/local/lib/python3.8/dist-packages pip\n",
            "distributed                   2022.2.0               /usr/local/lib/python3.8/dist-packages pip\n",
            "dlib                          19.24.0                /usr/local/lib/python3.8/dist-packages pip\n",
            "dm-tree                       0.1.7                  /usr/local/lib/python3.8/dist-packages pip\n",
            "dnspython                     2.2.1                  /usr/local/lib/python3.8/dist-packages pip\n",
            "docutils                      0.17.1                 /usr/local/lib/python3.8/dist-packages pip\n",
            "dopamine-rl                   1.0.5                  /usr/local/lib/python3.8/dist-packages pip\n",
            "earthengine-api               0.1.332                /usr/local/lib/python3.8/dist-packages pip\n",
            "easydict                      1.10                   /usr/local/lib/python3.8/dist-packages pip\n",
            "ecos                          2.0.10                 /usr/local/lib/python3.8/dist-packages pip\n",
            "editdistance                  0.5.3                  /usr/local/lib/python3.8/dist-packages pip\n",
            "en-core-web-sm                3.4.1                  /usr/local/lib/python3.8/dist-packages pip\n",
            "entrypoints                   0.4                    /usr/local/lib/python3.8/dist-packages pip\n",
            "ephem                         4.1.3                  /usr/local/lib/python3.8/dist-packages pip\n",
            "et-xmlfile                    1.1.0                  /usr/local/lib/python3.8/dist-packages pip\n",
            "etils                         0.9.0                  /usr/local/lib/python3.8/dist-packages pip\n",
            "etuples                       0.3.8                  /usr/local/lib/python3.8/dist-packages pip\n",
            "fa2                           0.3.5                  /usr/local/lib/python3.8/dist-packages pip\n",
            "fastai                        2.7.10                 /usr/local/lib/python3.8/dist-packages pip\n",
            "fastcore                      1.5.27                 /usr/local/lib/python3.8/dist-packages pip\n",
            "fastdownload                  0.0.7                  /usr/local/lib/python3.8/dist-packages pip\n",
            "fastdtw                       0.3.4                  /usr/local/lib/python3.8/dist-packages pip\n",
            "fastjsonschema                2.16.2                 /usr/local/lib/python3.8/dist-packages pip\n",
            "fastprogress                  1.0.3                  /usr/local/lib/python3.8/dist-packages pip\n",
            "fastrlock                     0.8.1                  /usr/local/lib/python3.8/dist-packages pip\n",
            "feather-format                0.4.1                  /usr/local/lib/python3.8/dist-packages pip\n",
            "filelock                      3.8.0                  /usr/local/lib/python3.8/dist-packages pip\n",
            "firebase-admin                5.3.0                  /usr/local/lib/python3.8/dist-packages pip\n",
            "fix-yahoo-finance             0.0.22                 /usr/local/lib/python3.8/dist-packages pip\n",
            "Flask                         1.1.4                  /usr/local/lib/python3.8/dist-packages pip\n",
            "flatbuffers                   1.12                   /usr/local/lib/python3.8/dist-packages pip\n",
            "folium                        0.12.1.post1           /usr/local/lib/python3.8/dist-packages pip\n",
            "frozenlist                    1.3.3                  /usr/local/lib/python3.8/dist-packages pip\n",
            "fsspec                        2022.11.0              /usr/local/lib/python3.8/dist-packages pip\n",
            "future                        0.16.0                 /usr/local/lib/python3.8/dist-packages pip\n",
            "gast                          0.4.0                  /usr/local/lib/python3.8/dist-packages pip\n",
            "GDAL                          2.2.2                  /usr/local/lib/python3.8/dist-packages pip\n",
            "gdown                         4.4.0                  /usr/local/lib/python3.8/dist-packages pip\n",
            "gensim                        3.6.0                  /usr/local/lib/python3.8/dist-packages pip\n",
            "geographiclib                 1.52                   /usr/local/lib/python3.8/dist-packages pip\n",
            "geopy                         1.17.0                 /usr/local/lib/python3.8/dist-packages pip\n",
            "gin-config                    0.5.0                  /usr/local/lib/python3.8/dist-packages pip\n",
            "glob2                         0.7                    /usr/local/lib/python3.8/dist-packages pip\n",
            "google                        2.0.3                  /usr/local/lib/python3.8/dist-packages pip\n",
            "google-api-core               2.8.2                  /usr/local/lib/python3.8/dist-packages pip\n",
            "google-api-python-client      1.12.11                /usr/local/lib/python3.8/dist-packages pip\n",
            "google-auth                   2.14.1                 /usr/local/lib/python3.8/dist-packages pip\n",
            "google-auth-httplib2          0.0.4                  /usr/local/lib/python3.8/dist-packages pip\n",
            "google-auth-oauthlib          0.4.6                  /usr/local/lib/python3.8/dist-packages pip\n",
            "google-cloud-bigquery         3.3.6                  /usr/local/lib/python3.8/dist-packages pip\n",
            "google-cloud-bigquery-storage 2.16.2                 /usr/local/lib/python3.8/dist-packages pip\n",
            "google-cloud-core             2.3.2                  /usr/local/lib/python3.8/dist-packages pip\n",
            "google-cloud-datastore        2.9.0                  /usr/local/lib/python3.8/dist-packages pip\n",
            "google-cloud-firestore        2.7.2                  /usr/local/lib/python3.8/dist-packages pip\n",
            "google-cloud-language         2.6.1                  /usr/local/lib/python3.8/dist-packages pip\n",
            "google-cloud-storage          2.5.0                  /usr/local/lib/python3.8/dist-packages pip\n",
            "google-cloud-translate        3.8.4                  /usr/local/lib/python3.8/dist-packages pip\n",
            "google-colab                  1.0.0                  /usr/local/lib/python3.8/dist-packages pip\n",
            "google-crc32c                 1.5.0                  /usr/local/lib/python3.8/dist-packages pip\n",
            "google-pasta                  0.2.0                  /usr/local/lib/python3.8/dist-packages pip\n",
            "google-resumable-media        2.4.0                  /usr/local/lib/python3.8/dist-packages pip\n",
            "googleapis-common-protos      1.57.0                 /usr/local/lib/python3.8/dist-packages pip\n",
            "googledrivedownloader         0.4                    /usr/local/lib/python3.8/dist-packages pip\n",
            "graphviz                      0.10.1                 /usr/local/lib/python3.8/dist-packages pip\n",
            "greenlet                      2.0.1                  /usr/local/lib/python3.8/dist-packages pip\n",
            "grpcio                        1.50.0                 /usr/local/lib/python3.8/dist-packages pip\n",
            "grpcio-status                 1.48.2                 /usr/local/lib/python3.8/dist-packages pip\n",
            "gspread                       3.4.2                  /usr/local/lib/python3.8/dist-packages pip\n",
            "gspread-dataframe             3.0.8                  /usr/local/lib/python3.8/dist-packages pip\n",
            "gym                           0.25.2                 /usr/local/lib/python3.8/dist-packages pip\n",
            "gym-notices                   0.0.8                  /usr/local/lib/python3.8/dist-packages pip\n",
            "h5py                          3.1.0                  /usr/local/lib/python3.8/dist-packages pip\n",
            "HeapDict                      1.0.1                  /usr/local/lib/python3.8/dist-packages pip\n",
            "hijri-converter               2.2.4                  /usr/local/lib/python3.8/dist-packages pip\n",
            "holidays                      0.17                   /usr/local/lib/python3.8/dist-packages pip\n",
            "holoviews                     1.14.9                 /usr/local/lib/python3.8/dist-packages pip\n",
            "html5lib                      1.0.1                  /usr/local/lib/python3.8/dist-packages pip\n",
            "httpimport                    0.5.18                 /usr/local/lib/python3.8/dist-packages pip\n",
            "httplib2                      0.17.4                 /usr/local/lib/python3.8/dist-packages pip\n",
            "httpstan                      4.6.1                  /usr/local/lib/python3.8/dist-packages pip\n",
            "humanize                      0.5.1                  /usr/local/lib/python3.8/dist-packages pip\n",
            "hyperopt                      0.1.2                  /usr/local/lib/python3.8/dist-packages pip\n",
            "idna                          2.10                   /usr/local/lib/python3.8/dist-packages pip\n",
            "imageio                       2.9.0                  /usr/local/lib/python3.8/dist-packages pip\n",
            "imagesize                     1.4.1                  /usr/local/lib/python3.8/dist-packages pip\n",
            "imbalanced-learn              0.8.1                  /usr/local/lib/python3.8/dist-packages pip\n",
            "imblearn                      0.0                    /usr/local/lib/python3.8/dist-packages pip\n",
            "imgaug                        0.4.0                  /usr/local/lib/python3.8/dist-packages pip\n",
            "importlib-metadata            4.13.0                 /usr/local/lib/python3.8/dist-packages pip\n",
            "importlib-resources           5.10.0                 /usr/local/lib/python3.8/dist-packages pip\n",
            "imutils                       0.5.4                  /usr/local/lib/python3.8/dist-packages pip\n",
            "inflect                       2.1.0                  /usr/local/lib/python3.8/dist-packages pip\n",
            "intel-openmp                  2022.2.1               /usr/local/lib/python3.8/dist-packages pip\n",
            "intervaltree                  2.1.0                  /usr/local/lib/python3.8/dist-packages pip\n",
            "ipykernel                     5.3.4                  /usr/local/lib/python3.8/dist-packages pip\n",
            "ipython                       7.9.0                  /usr/local/lib/python3.8/dist-packages pip\n",
            "ipython-genutils              0.2.0                  /usr/local/lib/python3.8/dist-packages pip\n",
            "ipython-sql                   0.3.9                  /usr/local/lib/python3.8/dist-packages pip\n",
            "ipywidgets                    7.7.1                  /usr/local/lib/python3.8/dist-packages pip\n",
            "itsdangerous                  1.1.0                  /usr/local/lib/python3.8/dist-packages pip\n",
            "jax                           0.3.25                 /usr/local/lib/python3.8/dist-packages pip\n",
            "jaxlib                        0.3.25+cuda11.cudnn805 /usr/local/lib/python3.8/dist-packages pip\n",
            "jieba                         0.42.1                 /usr/local/lib/python3.8/dist-packages pip\n",
            "Jinja2                        2.11.3                 /usr/local/lib/python3.8/dist-packages pip\n",
            "joblib                        1.2.0                  /usr/local/lib/python3.8/dist-packages pip\n",
            "jpeg4py                       0.1.4                  /usr/local/lib/python3.8/dist-packages pip\n",
            "jsonschema                    4.3.3                  /usr/local/lib/python3.8/dist-packages pip\n",
            "jupyter-client                6.1.12                 /usr/local/lib/python3.8/dist-packages pip\n",
            "jupyter-console               6.1.0                  /usr/local/lib/python3.8/dist-packages pip\n",
            "jupyter-core                  4.11.2                 /usr/local/lib/python3.8/dist-packages pip\n",
            "jupyterlab-widgets            3.0.3                  /usr/local/lib/python3.8/dist-packages pip\n",
            "kaggle                        1.5.12                 /usr/local/lib/python3.8/dist-packages pip\n",
            "kapre                         0.3.7                  /usr/local/lib/python3.8/dist-packages pip\n",
            "keras                         2.9.0                  /usr/local/lib/python3.8/dist-packages pip\n",
            "Keras-Preprocessing           1.1.2                  /usr/local/lib/python3.8/dist-packages pip\n",
            "keras-vis                     0.4.1                  /usr/local/lib/python3.8/dist-packages pip\n",
            "kiwisolver                    1.4.4                  /usr/local/lib/python3.8/dist-packages pip\n",
            "korean-lunar-calendar         0.3.1                  /usr/local/lib/python3.8/dist-packages pip\n",
            "langcodes                     3.3.0                  /usr/local/lib/python3.8/dist-packages pip\n",
            "libclang                      14.0.6                 /usr/local/lib/python3.8/dist-packages pip\n",
            "librosa                       0.8.1                  /usr/local/lib/python3.8/dist-packages pip\n",
            "lightgbm                      2.2.3                  /usr/local/lib/python3.8/dist-packages pip\n",
            "llvmlite                      0.39.1                 /usr/local/lib/python3.8/dist-packages pip\n",
            "lmdb                          0.99                   /usr/local/lib/python3.8/dist-packages pip\n",
            "locket                        1.0.0                  /usr/local/lib/python3.8/dist-packages pip\n",
            "logical-unification           0.4.5                  /usr/local/lib/python3.8/dist-packages pip\n",
            "LunarCalendar                 0.0.9                  /usr/local/lib/python3.8/dist-packages pip\n",
            "lxml                          4.9.1                  /usr/local/lib/python3.8/dist-packages pip\n",
            "Markdown                      3.4.1                  /usr/local/lib/python3.8/dist-packages pip\n",
            "MarkupSafe                    2.0.1                  /usr/local/lib/python3.8/dist-packages pip\n",
            "marshmallow                   3.19.0                 /usr/local/lib/python3.8/dist-packages pip\n",
            "matplotlib                    3.2.2                  /usr/local/lib/python3.8/dist-packages pip\n",
            "matplotlib-venn               0.11.7                 /usr/local/lib/python3.8/dist-packages pip\n",
            "miniKanren                    1.0.3                  /usr/local/lib/python3.8/dist-packages pip\n",
            "missingno                     0.5.1                  /usr/local/lib/python3.8/dist-packages pip\n",
            "mistune                       0.8.4                  /usr/local/lib/python3.8/dist-packages pip\n",
            "mizani                        0.7.3                  /usr/local/lib/python3.8/dist-packages pip\n",
            "mkl                           2019.0                 /usr/local/lib/python3.8/dist-packages pip\n",
            "mlxtend                       0.14.0                 /usr/local/lib/python3.8/dist-packages pip\n",
            "more-itertools                9.0.0                  /usr/local/lib/python3.8/dist-packages pip\n",
            "moviepy                       0.2.3.5                /usr/local/lib/python3.8/dist-packages pip\n",
            "mpmath                        1.2.1                  /usr/local/lib/python3.8/dist-packages pip\n",
            "msgpack                       1.0.4                  /usr/local/lib/python3.8/dist-packages pip\n",
            "multidict                     6.0.2                  /usr/local/lib/python3.8/dist-packages pip\n",
            "multipledispatch              0.6.0                  /usr/local/lib/python3.8/dist-packages pip\n",
            "multitasking                  0.0.11                 /usr/local/lib/python3.8/dist-packages pip\n",
            "murmurhash                    1.0.9                  /usr/local/lib/python3.8/dist-packages pip\n",
            "music21                       5.5.0                  /usr/local/lib/python3.8/dist-packages pip\n",
            "natsort                       5.5.0                  /usr/local/lib/python3.8/dist-packages pip\n",
            "nbconvert                     5.6.1                  /usr/local/lib/python3.8/dist-packages pip\n",
            "nbformat                      5.7.0                  /usr/local/lib/python3.8/dist-packages pip\n",
            "netCDF4                       1.6.2                  /usr/local/lib/python3.8/dist-packages pip\n",
            "networkx                      2.6.3                  /usr/local/lib/python3.8/dist-packages pip\n",
            "nibabel                       3.0.2                  /usr/local/lib/python3.8/dist-packages pip\n",
            "nltk                          3.7                    /usr/local/lib/python3.8/dist-packages pip\n",
            "notebook                      5.7.16                 /usr/local/lib/python3.8/dist-packages pip\n",
            "numba                         0.56.4                 /usr/local/lib/python3.8/dist-packages pip\n",
            "numexpr                       2.8.4                  /usr/local/lib/python3.8/dist-packages pip\n",
            "numpy                         1.21.6                 /usr/local/lib/python3.8/dist-packages pip\n",
            "oauth2client                  4.1.3                  /usr/local/lib/python3.8/dist-packages pip\n",
            "oauthlib                      3.2.2                  /usr/local/lib/python3.8/dist-packages pip\n",
            "okgrade                       0.4.3                  /usr/local/lib/python3.8/dist-packages pip\n",
            "opencv-contrib-python         4.6.0.66               /usr/local/lib/python3.8/dist-packages pip\n",
            "opencv-python                 4.6.0.66               /usr/local/lib/python3.8/dist-packages pip\n",
            "opencv-python-headless        4.6.0.66               /usr/local/lib/python3.8/dist-packages pip\n",
            "openpyxl                      3.0.10                 /usr/local/lib/python3.8/dist-packages pip\n",
            "opt-einsum                    3.3.0                  /usr/local/lib/python3.8/dist-packages pip\n",
            "osqp                          0.6.2.post0            /usr/local/lib/python3.8/dist-packages pip\n",
            "packaging                     21.3                   /usr/local/lib/python3.8/dist-packages pip\n",
            "palettable                    3.3.0                  /usr/local/lib/python3.8/dist-packages pip\n",
            "pandas                        1.3.5                  /usr/local/lib/python3.8/dist-packages pip\n",
            "pandas-datareader             0.9.0                  /usr/local/lib/python3.8/dist-packages pip\n",
            "pandas-gbq                    0.17.9                 /usr/local/lib/python3.8/dist-packages pip\n",
            "pandas-profiling              1.4.1                  /usr/local/lib/python3.8/dist-packages pip\n",
            "pandocfilters                 1.5.0                  /usr/local/lib/python3.8/dist-packages pip\n",
            "panel                         0.12.1                 /usr/local/lib/python3.8/dist-packages pip\n",
            "param                         1.12.2                 /usr/local/lib/python3.8/dist-packages pip\n",
            "parso                         0.8.3                  /usr/local/lib/python3.8/dist-packages pip\n",
            "partd                         1.3.0                  /usr/local/lib/python3.8/dist-packages pip\n",
            "pastel                        0.2.1                  /usr/local/lib/python3.8/dist-packages pip\n",
            "pathlib                       1.0.1                  /usr/local/lib/python3.8/dist-packages pip\n",
            "pathy                         0.9.0                  /usr/local/lib/python3.8/dist-packages pip\n",
            "patsy                         0.5.3                  /usr/local/lib/python3.8/dist-packages pip\n",
            "pep517                        0.13.0                 /usr/local/lib/python3.8/dist-packages pip\n",
            "pexpect                       4.8.0                  /usr/local/lib/python3.8/dist-packages pip\n",
            "pickleshare                   0.7.5                  /usr/local/lib/python3.8/dist-packages pip\n",
            "Pillow                        7.1.2                  /usr/local/lib/python3.8/dist-packages pip\n",
            "pip                           21.1.3                 /usr/local/lib/python3.8/dist-packages pip\n",
            "pip-tools                     6.2.0                  /usr/local/lib/python3.8/dist-packages pip\n",
            "plotly                        5.5.0                  /usr/local/lib/python3.8/dist-packages pip\n",
            "plotnine                      0.8.0                  /usr/local/lib/python3.8/dist-packages pip\n",
            "pluggy                        0.7.1                  /usr/local/lib/python3.8/dist-packages pip\n",
            "pooch                         1.6.0                  /usr/local/lib/python3.8/dist-packages pip\n",
            "portpicker                    1.3.9                  /usr/local/lib/python3.8/dist-packages pip\n",
            "prefetch-generator            1.0.3                  /usr/local/lib/python3.8/dist-packages pip\n",
            "preshed                       3.0.8                  /usr/local/lib/python3.8/dist-packages pip\n",
            "prettytable                   3.5.0                  /usr/local/lib/python3.8/dist-packages pip\n",
            "progressbar2                  3.38.0                 /usr/local/lib/python3.8/dist-packages pip\n",
            "prometheus-client             0.15.0                 /usr/local/lib/python3.8/dist-packages pip\n",
            "promise                       2.3                    /usr/local/lib/python3.8/dist-packages pip\n",
            "prompt-toolkit                2.0.10                 /usr/local/lib/python3.8/dist-packages pip\n",
            "prophet                       1.1.1                  /usr/local/lib/python3.8/dist-packages pip\n",
            "proto-plus                    1.22.1                 /usr/local/lib/python3.8/dist-packages pip\n",
            "protobuf                      3.19.6                 /usr/local/lib/python3.8/dist-packages pip\n",
            "psutil                        5.4.8                  /usr/local/lib/python3.8/dist-packages pip\n",
            "psycopg2                      2.9.5                  /usr/local/lib/python3.8/dist-packages pip\n",
            "ptyprocess                    0.7.0                  /usr/local/lib/python3.8/dist-packages pip\n",
            "py                            1.11.0                 /usr/local/lib/python3.8/dist-packages pip\n",
            "pyarrow                       9.0.0                  /usr/local/lib/python3.8/dist-packages pip\n",
            "pyasn1                        0.4.8                  /usr/local/lib/python3.8/dist-packages pip\n",
            "pyasn1-modules                0.2.8                  /usr/local/lib/python3.8/dist-packages pip\n",
            "pycocotools                   2.0.6                  /usr/local/lib/python3.8/dist-packages pip\n",
            "pycparser                     2.21                   /usr/local/lib/python3.8/dist-packages pip\n",
            "pyct                          0.4.8                  /usr/local/lib/python3.8/dist-packages pip\n",
            "pydantic                      1.10.2                 /usr/local/lib/python3.8/dist-packages pip\n",
            "pydata-google-auth            1.4.0                  /usr/local/lib/python3.8/dist-packages pip\n",
            "pydot                         1.3.0                  /usr/local/lib/python3.8/dist-packages pip\n",
            "pydot-ng                      2.0.0                  /usr/local/lib/python3.8/dist-packages pip\n",
            "pydotplus                     2.0.2                  /usr/local/lib/python3.8/dist-packages pip\n",
            "PyDrive                       1.3.1                  /usr/local/lib/python3.8/dist-packages pip\n",
            "pyemd                         0.5.1                  /usr/local/lib/python3.8/dist-packages pip\n",
            "pyerfa                        2.0.0.1                /usr/local/lib/python3.8/dist-packages pip\n",
            "Pygments                      2.6.1                  /usr/local/lib/python3.8/dist-packages pip\n",
            "pygobject                     3.26.1                 /usr/lib/python3/dist-packages\n",
            "pylev                         1.4.0                  /usr/local/lib/python3.8/dist-packages pip\n",
            "pymc                          4.1.4                  /usr/local/lib/python3.8/dist-packages pip\n",
            "PyMeeus                       0.5.11                 /usr/local/lib/python3.8/dist-packages pip\n",
            "pymongo                       4.3.3                  /usr/local/lib/python3.8/dist-packages pip\n",
            "pymystem3                     0.2.0                  /usr/local/lib/python3.8/dist-packages pip\n",
            "PyOpenGL                      3.1.6                  /usr/local/lib/python3.8/dist-packages pip\n",
            "pyparsing                     3.0.9                  /usr/local/lib/python3.8/dist-packages pip\n",
            "pyrsistent                    0.19.2                 /usr/local/lib/python3.8/dist-packages pip\n",
            "pysimdjson                    3.2.0                  /usr/local/lib/python3.8/dist-packages pip\n",
            "pysndfile                     1.3.8                  /usr/local/lib/python3.8/dist-packages pip\n",
            "PySocks                       1.7.1                  /usr/local/lib/python3.8/dist-packages pip\n",
            "pystan                        3.3.0                  /usr/local/lib/python3.8/dist-packages pip\n",
            "pytest                        3.6.4                  /usr/local/lib/python3.8/dist-packages pip\n",
            "python-apt                    0.0.0                  /usr/local/lib/python3.8/dist-packages\n",
            "python-dateutil               2.8.2                  /usr/local/lib/python3.8/dist-packages pip\n",
            "python-louvain                0.16                   /usr/local/lib/python3.8/dist-packages pip\n",
            "python-slugify                7.0.0                  /usr/local/lib/python3.8/dist-packages pip\n",
            "python-utils                  3.4.5                  /usr/local/lib/python3.8/dist-packages pip\n",
            "pytz                          2022.6                 /usr/local/lib/python3.8/dist-packages pip\n",
            "pyviz-comms                   2.2.1                  /usr/local/lib/python3.8/dist-packages pip\n",
            "PyWavelets                    1.3.0                  /usr/local/lib/python3.8/dist-packages pip\n",
            "PyYAML                        6.0                    /usr/local/lib/python3.8/dist-packages pip\n",
            "pyzmq                         23.2.1                 /usr/local/lib/python3.8/dist-packages pip\n",
            "qdldl                         0.1.5.post2            /usr/local/lib/python3.8/dist-packages pip\n",
            "qudida                        0.0.4                  /usr/local/lib/python3.8/dist-packages pip\n",
            "regex                         2022.6.2               /usr/local/lib/python3.8/dist-packages pip\n",
            "requests                      2.23.0                 /usr/local/lib/python3.8/dist-packages pip\n",
            "requests-oauthlib             1.3.1                  /usr/local/lib/python3.8/dist-packages pip\n",
            "resampy                       0.4.2                  /usr/local/lib/python3.8/dist-packages pip\n",
            "rpy2                          3.5.5                  /usr/local/lib/python3.8/dist-packages pip\n",
            "rsa                           4.9                    /usr/local/lib/python3.8/dist-packages pip\n",
            "scikit-image                  0.18.3                 /usr/local/lib/python3.8/dist-packages pip\n",
            "scikit-learn                  1.0.2                  /usr/local/lib/python3.8/dist-packages pip\n",
            "scipy                         1.7.3                  /usr/local/lib/python3.8/dist-packages pip\n",
            "screen-resolution-extra       0.0.0                  /usr/lib/python3/dist-packages\n",
            "scs                           3.2.2                  /usr/local/lib/python3.8/dist-packages pip\n",
            "seaborn                       0.11.2                 /usr/local/lib/python3.8/dist-packages pip\n",
            "Send2Trash                    1.8.0                  /usr/local/lib/python3.8/dist-packages pip\n",
            "setuptools                    57.4.0                 /usr/local/lib/python3.8/dist-packages pip\n",
            "setuptools-git                1.2                    /usr/local/lib/python3.8/dist-packages pip\n",
            "Shapely                       1.8.5.post1            /usr/local/lib/python3.8/dist-packages pip\n",
            "six                           1.15.0                 /usr/local/lib/python3.8/dist-packages pip\n",
            "sklearn-pandas                1.8.0                  /usr/local/lib/python3.8/dist-packages pip\n",
            "smart-open                    5.2.1                  /usr/local/lib/python3.8/dist-packages pip\n",
            "snowballstemmer               2.2.0                  /usr/local/lib/python3.8/dist-packages pip\n",
            "sortedcontainers              2.4.0                  /usr/local/lib/python3.8/dist-packages pip\n",
            "soundfile                     0.11.0                 /usr/local/lib/python3.8/dist-packages pip\n",
            "spacy                         3.4.3                  /usr/local/lib/python3.8/dist-packages pip\n",
            "spacy-legacy                  3.0.10                 /usr/local/lib/python3.8/dist-packages pip\n",
            "spacy-loggers                 1.0.3                  /usr/local/lib/python3.8/dist-packages pip\n",
            "Sphinx                        1.8.6                  /usr/local/lib/python3.8/dist-packages pip\n",
            "sphinxcontrib-serializinghtml 1.1.5                  /usr/local/lib/python3.8/dist-packages pip\n",
            "sphinxcontrib-websupport      1.2.4                  /usr/local/lib/python3.8/dist-packages pip\n",
            "SQLAlchemy                    1.4.44                 /usr/local/lib/python3.8/dist-packages pip\n",
            "sqlparse                      0.4.3                  /usr/local/lib/python3.8/dist-packages pip\n",
            "srsly                         2.4.5                  /usr/local/lib/python3.8/dist-packages pip\n",
            "statsmodels                   0.12.2                 /usr/local/lib/python3.8/dist-packages pip\n",
            "sympy                         1.7.1                  /usr/local/lib/python3.8/dist-packages pip\n",
            "tables                        3.7.0                  /usr/local/lib/python3.8/dist-packages pip\n",
            "tabulate                      0.8.10                 /usr/local/lib/python3.8/dist-packages pip\n",
            "tblib                         1.7.0                  /usr/local/lib/python3.8/dist-packages pip\n",
            "tenacity                      8.1.0                  /usr/local/lib/python3.8/dist-packages pip\n",
            "tensorboard                   2.9.1                  /usr/local/lib/python3.8/dist-packages pip\n",
            "tensorboard-data-server       0.6.1                  /usr/local/lib/python3.8/dist-packages pip\n",
            "tensorboard-plugin-wit        1.8.1                  /usr/local/lib/python3.8/dist-packages pip\n",
            "tensorflow                    2.9.2                  /usr/local/lib/python3.8/dist-packages pip\n",
            "tensorflow-datasets           4.6.0                  /usr/local/lib/python3.8/dist-packages pip\n",
            "tensorflow-estimator          2.9.0                  /usr/local/lib/python3.8/dist-packages pip\n",
            "tensorflow-gcs-config         2.9.1                  /usr/local/lib/python3.8/dist-packages pip\n",
            "tensorflow-hub                0.12.0                 /usr/local/lib/python3.8/dist-packages pip\n",
            "tensorflow-io-gcs-filesystem  0.28.0                 /usr/local/lib/python3.8/dist-packages pip\n",
            "tensorflow-metadata           1.11.0                 /usr/local/lib/python3.8/dist-packages pip\n",
            "tensorflow-probability        0.17.0                 /usr/local/lib/python3.8/dist-packages pip\n",
            "termcolor                     2.1.1                  /usr/local/lib/python3.8/dist-packages pip\n",
            "terminado                     0.13.3                 /usr/local/lib/python3.8/dist-packages pip\n",
            "testpath                      0.6.0                  /usr/local/lib/python3.8/dist-packages pip\n",
            "text-unidecode                1.3                    /usr/local/lib/python3.8/dist-packages pip\n",
            "textblob                      0.15.3                 /usr/local/lib/python3.8/dist-packages pip\n",
            "thinc                         8.1.5                  /usr/local/lib/python3.8/dist-packages pip\n",
            "threadpoolctl                 3.1.0                  /usr/local/lib/python3.8/dist-packages pip\n",
            "tifffile                      2021.11.2              /usr/local/lib/python3.8/dist-packages pip\n",
            "toml                          0.10.2                 /usr/local/lib/python3.8/dist-packages pip\n",
            "tomli                         2.0.1                  /usr/local/lib/python3.8/dist-packages pip\n",
            "toolz                         0.12.0                 /usr/local/lib/python3.8/dist-packages pip\n",
            "torch                         1.12.1+cu113           /usr/local/lib/python3.8/dist-packages pip\n",
            "torchaudio                    0.12.1+cu113           /usr/local/lib/python3.8/dist-packages pip\n",
            "torchsummary                  1.5.1                  /usr/local/lib/python3.8/dist-packages pip\n",
            "torchtext                     0.13.1                 /usr/local/lib/python3.8/dist-packages pip\n",
            "torchvision                   0.13.1+cu113           /usr/local/lib/python3.8/dist-packages pip\n",
            "tornado                       6.0.4                  /usr/local/lib/python3.8/dist-packages pip\n",
            "tqdm                          4.64.1                 /usr/local/lib/python3.8/dist-packages pip\n",
            "traitlets                     5.1.1                  /usr/local/lib/python3.8/dist-packages pip\n",
            "tweepy                        3.10.0                 /usr/local/lib/python3.8/dist-packages pip\n",
            "typeguard                     2.7.1                  /usr/local/lib/python3.8/dist-packages pip\n",
            "typer                         0.7.0                  /usr/local/lib/python3.8/dist-packages pip\n",
            "typing-extensions             4.1.1                  /usr/local/lib/python3.8/dist-packages pip\n",
            "tzlocal                       1.5.1                  /usr/local/lib/python3.8/dist-packages pip\n",
            "uritemplate                   3.0.1                  /usr/local/lib/python3.8/dist-packages pip\n",
            "urllib3                       1.24.3                 /usr/local/lib/python3.8/dist-packages pip\n",
            "vega-datasets                 0.9.0                  /usr/local/lib/python3.8/dist-packages pip\n",
            "wasabi                        0.10.1                 /usr/local/lib/python3.8/dist-packages pip\n",
            "wcwidth                       0.2.5                  /usr/local/lib/python3.8/dist-packages pip\n",
            "webargs                       8.2.0                  /usr/local/lib/python3.8/dist-packages pip\n",
            "webencodings                  0.5.1                  /usr/local/lib/python3.8/dist-packages pip\n",
            "Werkzeug                      1.0.1                  /usr/local/lib/python3.8/dist-packages pip\n",
            "wheel                         0.38.4                 /usr/local/lib/python3.8/dist-packages pip\n",
            "widgetsnbextension            3.6.1                  /usr/local/lib/python3.8/dist-packages pip\n",
            "wordcloud                     1.8.2.2                /usr/local/lib/python3.8/dist-packages pip\n",
            "wrapt                         1.14.1                 /usr/local/lib/python3.8/dist-packages pip\n",
            "xarray                        0.20.2                 /usr/local/lib/python3.8/dist-packages pip\n",
            "xarray-einstats               0.2.2                  /usr/local/lib/python3.8/dist-packages pip\n",
            "xgboost                       0.90                   /usr/local/lib/python3.8/dist-packages pip\n",
            "xkit                          0.0.0                  /usr/lib/python3/dist-packages\n",
            "xlrd                          1.1.0                  /usr/local/lib/python3.8/dist-packages pip\n",
            "xlwt                          1.3.0                  /usr/local/lib/python3.8/dist-packages pip\n",
            "yarl                          1.8.1                  /usr/local/lib/python3.8/dist-packages pip\n",
            "yellowbrick                   1.5                    /usr/local/lib/python3.8/dist-packages pip\n",
            "zict                          2.2.0                  /usr/local/lib/python3.8/dist-packages pip\n",
            "zipp                          3.10.0                 /usr/local/lib/python3.8/dist-packages pip\n"
          ]
        }
      ],
      "source": [
        "!pip list  -v           # Provides list of installed packages ! is showing it's shell command"
      ]
    },
    {
      "cell_type": "code",
      "source": [
        "pip install logic"
      ],
      "metadata": {
        "colab": {
          "base_uri": "https://localhost:8080/"
        },
        "id": "xoaF4Ttu8BDN",
        "outputId": "421275c5-ca31-4aae-a8a3-f1d3ef49bf9e"
      },
      "execution_count": 2,
      "outputs": [
        {
          "output_type": "stream",
          "name": "stdout",
          "text": [
            "Looking in indexes: https://pypi.org/simple, https://us-python.pkg.dev/colab-wheels/public/simple/\n",
            "Collecting logic\n",
            "  Downloading logic-0.2.3.tar.gz (20 kB)\n",
            "Requirement already satisfied: toolz in /usr/local/lib/python3.8/dist-packages (from logic) (0.12.0)\n",
            "Requirement already satisfied: multipledispatch in /usr/local/lib/python3.8/dist-packages (from logic) (0.6.0)\n",
            "Collecting unification\n",
            "  Downloading unification-0.2.2-py2.py3-none-any.whl (10 kB)\n",
            "Requirement already satisfied: six in /usr/local/lib/python3.8/dist-packages (from multipledispatch->logic) (1.15.0)\n",
            "Building wheels for collected packages: logic\n",
            "  Building wheel for logic (setup.py) ... \u001b[?25l\u001b[?25hdone\n",
            "  Created wheel for logic: filename=logic-0.2.3-py3-none-any.whl size=13726 sha256=3f9e727f0c2cd3ef0a6ed704b22b33137cfa355579c8993fd2ce28efeec829db\n",
            "  Stored in directory: /root/.cache/pip/wheels/5a/85/de/16b5eb6b1d4acd8d7450d3d21755ef8496e69a99f7eb650b2d\n",
            "Successfully built logic\n",
            "Installing collected packages: unification, logic\n",
            "Successfully installed logic-0.2.3 unification-0.2.2\n"
          ]
        }
      ]
    },
    {
      "cell_type": "code",
      "source": [
        "pip install sympy"
      ],
      "metadata": {
        "colab": {
          "base_uri": "https://localhost:8080/"
        },
        "id": "t4HN4XWd8Bl5",
        "outputId": "5e971337-c4c3-4759-8ae7-8a1734bd8631"
      },
      "execution_count": 3,
      "outputs": [
        {
          "output_type": "stream",
          "name": "stdout",
          "text": [
            "Looking in indexes: https://pypi.org/simple, https://us-python.pkg.dev/colab-wheels/public/simple/\n",
            "Requirement already satisfied: sympy in /usr/local/lib/python3.8/dist-packages (1.7.1)\n",
            "Requirement already satisfied: mpmath>=0.19 in /usr/local/lib/python3.8/dist-packages (from sympy) (1.2.1)\n"
          ]
        }
      ]
    },
    {
      "cell_type": "code",
      "source": [
        "pip install kanren"
      ],
      "metadata": {
        "colab": {
          "base_uri": "https://localhost:8080/"
        },
        "id": "mnwIngGo8D4o",
        "outputId": "a80f73fe-9f6b-49f9-f625-48737425a1ca"
      },
      "execution_count": 4,
      "outputs": [
        {
          "output_type": "stream",
          "name": "stdout",
          "text": [
            "Looking in indexes: https://pypi.org/simple, https://us-python.pkg.dev/colab-wheels/public/simple/\n",
            "Collecting kanren\n",
            "  Downloading kanren-0.2.3.tar.gz (23 kB)\n",
            "Requirement already satisfied: toolz in /usr/local/lib/python3.8/dist-packages (from kanren) (0.12.0)\n",
            "Requirement already satisfied: multipledispatch in /usr/local/lib/python3.8/dist-packages (from kanren) (0.6.0)\n",
            "Requirement already satisfied: unification in /usr/local/lib/python3.8/dist-packages (from kanren) (0.2.2)\n",
            "Requirement already satisfied: six in /usr/local/lib/python3.8/dist-packages (from multipledispatch->kanren) (1.15.0)\n",
            "Building wheels for collected packages: kanren\n",
            "  Building wheel for kanren (setup.py) ... \u001b[?25l\u001b[?25hdone\n",
            "  Created wheel for kanren: filename=kanren-0.2.3-py3-none-any.whl size=15871 sha256=e832f9c0447e597c9c4667460ed6fd420105d5e867ba737c3946ca61f8d3bdc7\n",
            "  Stored in directory: /root/.cache/pip/wheels/69/e7/58/f138e1a8e1b6a717490d4c69ed313e46b459fb5bde2a100b9b\n",
            "Successfully built kanren\n",
            "Installing collected packages: kanren\n",
            "Successfully installed kanren-0.2.3\n"
          ]
        }
      ]
    },
    {
      "cell_type": "code",
      "source": [
        "import json\n",
        "from logpy import Relation, facts, run, conde, var, eq,membero"
      ],
      "metadata": {
        "id": "9sFbE-t18LeX"
      },
      "execution_count": 5,
      "outputs": []
    },
    {
      "cell_type": "code",
      "source": [
        "def wife(x,y):\n",
        "  temp=var()\n",
        "  return conde((father(y,temp),mother(x,temp)))"
      ],
      "metadata": {
        "id": "fFX2pIjF8M6V"
      },
      "execution_count": 6,
      "outputs": []
    },
    {
      "cell_type": "code",
      "source": [
        "def grandMother(x,y):\n",
        "  temp=var()\n",
        "  return conde((father(temp,y),mother(x,temp)))"
      ],
      "metadata": {
        "id": "kMRF3PZR8OZr"
      },
      "execution_count": 7,
      "outputs": []
    },
    {
      "cell_type": "code",
      "source": [
        "def nephew(x,y):\n",
        "  temp=var()\n",
        "  return conde((father(temp,x),sibling(y,temp)))"
      ],
      "metadata": {
        "id": "iAQTQKkd8Zd-"
      },
      "execution_count": 8,
      "outputs": []
    },
    {
      "cell_type": "code",
      "source": [
        "# Check if 'x' is the parent of 'y'\n",
        "def parent(x, y):\n",
        "  return conde([father(x, y)], [mother(x, y)])"
      ],
      "metadata": {
        "id": "_toHYMgP8apt"
      },
      "execution_count": 9,
      "outputs": []
    },
    {
      "cell_type": "code",
      "source": [
        "# Check if 'x' is the grandparent of 'y'\n",
        "def grandparent(x, y):\n",
        "  temp = var()\n",
        "  return conde((parent(x, temp), parent(temp, y)))"
      ],
      "metadata": {
        "id": "_gRikdeO8b96"
      },
      "execution_count": 10,
      "outputs": []
    },
    {
      "cell_type": "code",
      "source": [
        "# Check for sibling relationship between 'a' and 'b'\n",
        "def sibling(x, y):\n",
        "  temp = var()\n",
        "  return conde((parent(temp, x), parent(temp, y)))"
      ],
      "metadata": {
        "id": "mP1dJ4q28dYT"
      },
      "execution_count": 11,
      "outputs": []
    },
    {
      "cell_type": "code",
      "source": [
        "# Check if x is y's uncle\n",
        "def uncle(x, y):\n",
        "  temp = var()\n",
        "  return conde((father(temp, x), grandparent(temp, y)))"
      ],
      "metadata": {
        "id": "xgxP092J8e0p"
      },
      "execution_count": 12,
      "outputs": []
    },
    {
      "cell_type": "code",
      "source": [
        "if __name__=='__main__':\n",
        "  father = Relation()\n",
        "  mother = Relation()\n",
        "  gender=Relation()"
      ],
      "metadata": {
        "id": "k6uXyk9m8gd3"
      },
      "execution_count": 13,
      "outputs": []
    },
    {
      "cell_type": "code",
      "source": [
        "with open ('/content/Shivaji_Maharaj.json') as f:\n",
        "   d = json.loads(f.read())"
      ],
      "metadata": {
        "id": "bDPRhP8P8h78"
      },
      "execution_count": 15,
      "outputs": []
    },
    {
      "cell_type": "code",
      "source": [
        "for item in d['father']:\n",
        "  facts(father, (list(item.keys())[0], list(item.values())[0]))\n",
        "for item in d['mother']:\n",
        "  facts(mother, (list(item.keys())[0], list(item.values())[0]))\n",
        "for item in d['Gender']:\n",
        "  facts(gender, (list(item.keys())[0], list(item.values())[0]))"
      ],
      "metadata": {
        "id": "fkPLqSXI8jHY"
      },
      "execution_count": 16,
      "outputs": []
    },
    {
      "cell_type": "code",
      "source": [
        "temp = var()"
      ],
      "metadata": {
        "id": "xyvxQ-UJ8pzL"
      },
      "execution_count": 19,
      "outputs": []
    },
    {
      "cell_type": "code",
      "source": [
        "#nephew\n",
        "name=\"Dipabai\"\n",
        "output = run(0, temp, nephew(temp, name))\n",
        "for item in output:\n",
        "  print(item)"
      ],
      "metadata": {
        "colab": {
          "base_uri": "https://localhost:8080/"
        },
        "id": "adgGOYuP8rbr",
        "outputId": "08a5c1b6-f232-4e8e-8c42-0aa2b3effb16"
      },
      "execution_count": 20,
      "outputs": [
        {
          "output_type": "stream",
          "name": "stdout",
          "text": [
            "Shivaji Maharaj(Second)\n",
            "Sambhaji Maharaj(Second)\n",
            "Shahu Maharaj\n"
          ]
        }
      ]
    },
    {
      "cell_type": "code",
      "source": [
        "#grandmother\n",
        "name=\"Sambhaji Maharaj(Second)\"\n",
        "output = run(0, x, grandMother(x, name))\n",
        "for item in output:\n",
        "  print(item)"
      ],
      "metadata": {
        "colab": {
          "base_uri": "https://localhost:8080/"
        },
        "id": "AVsDnO3f81ds",
        "outputId": "311d40cf-274d-4862-933a-632ddc81dbf1"
      },
      "execution_count": 21,
      "outputs": [
        {
          "output_type": "stream",
          "name": "stdout",
          "text": [
            "Soyrabai\n"
          ]
        }
      ]
    },
    {
      "cell_type": "code",
      "source": [
        "#wife of Rajaram Maharaj\n",
        "name='Rajaram Maharaj'\n",
        "temp=var()\n",
        "output=run(0,x,father(name,temp),mother(x,temp))\n",
        "print(\"List of \"+ name + \"'s wife:\")\n",
        "for item in output:\n",
        "  print(item)"
      ],
      "metadata": {
        "colab": {
          "base_uri": "https://localhost:8080/"
        },
        "id": "32LvRJ3O893K",
        "outputId": "c868eb9d-a739-45a6-c87f-30ae7bf5586d"
      },
      "execution_count": 22,
      "outputs": [
        {
          "output_type": "stream",
          "name": "stdout",
          "text": [
            "List of Rajaram Maharaj's wife:\n",
            "Tarabai\n",
            "Rajasbai\n"
          ]
        }
      ]
    },
    {
      "cell_type": "code",
      "source": [
        "name='Rajaram Maharaj'\n",
        "output=run(0,x,wife(x,name))\n",
        "print(\"List of Rajaram Maharaj's wife:\")\n",
        "for item in output:\n",
        "  print(item)"
      ],
      "metadata": {
        "colab": {
          "base_uri": "https://localhost:8080/"
        },
        "id": "SpUE98Yl8_jl",
        "outputId": "9749c4c2-efb3-43a1-fed5-b035ab6d4956"
      },
      "execution_count": 23,
      "outputs": [
        {
          "output_type": "stream",
          "name": "stdout",
          "text": [
            "List of Rajaram Maharaj's wife:\n",
            "Tarabai\n",
            "Rajasbai\n"
          ]
        }
      ]
    },
    {
      "cell_type": "code",
      "source": [
        "#co-sister-in-law\n",
        "name='Yesubai'\n",
        "temp=var()\n",
        "temp1=var()\n",
        "y=var()\n",
        "output=run(0,x,mother(name,temp),father(y,temp),father(temp1,y),father(temp1,x),gender(x,\"female\"))\n",
        "# output = [x for x in output if x != 'Sambhaji Maharaj']\n",
        "\n",
        "output = [x for x in output if x != y]\n",
        "print(\"List of \"+ name + \"'s co-sisters-in-law:\")\n",
        "for item in output:\n",
        "  print(item)"
      ],
      "metadata": {
        "colab": {
          "base_uri": "https://localhost:8080/"
        },
        "id": "JwAVM1Ub9BXi",
        "outputId": "d3b871d6-00e0-412a-bd64-d37c8d19ec4d"
      },
      "execution_count": 24,
      "outputs": [
        {
          "output_type": "stream",
          "name": "stdout",
          "text": [
            "List of Yesubai's co-sisters-in-law:\n",
            "RajKunvarbai\n",
            "Kamalabai\n",
            "Sakhubai\n",
            "Dipabai\n",
            "Ranubai\n",
            "Ambikabai\n"
          ]
        }
      ]
    },
    {
      "cell_type": "code",
      "source": [
        "#daughter in law of shivaji maharaj\n",
        "name='Shivaji Maharaj'\n",
        "y=var()\n",
        "temp=var()\n",
        "output=run(0,x,father(name,y),father(y,temp),mother(x,temp))\n",
        "print(\"List of \"+ name + \"'s daughters-in-law:\")\n",
        "for item in output:\n",
        "  print(item)"
      ],
      "metadata": {
        "colab": {
          "base_uri": "https://localhost:8080/"
        },
        "id": "iBEsv2L39C12",
        "outputId": "6ea12f60-14f7-4642-a60f-01c0cf8d5491"
      },
      "execution_count": 25,
      "outputs": [
        {
          "output_type": "stream",
          "name": "stdout",
          "text": [
            "List of Shivaji Maharaj's daughters-in-law:\n",
            "Yesubai\n",
            "Tarabai\n",
            "Rajasbai\n"
          ]
        }
      ]
    },
    {
      "cell_type": "code",
      "source": [
        "# Rajaram Maharaj's children\n",
        "name = 'Rajaram Maharaj'\n",
        "output = run(0, x, father(name, x))\n",
        "print(\"\\nList of \" + name + \"'s children:\")\n",
        "for item in output:\n",
        "  print(item)"
      ],
      "metadata": {
        "colab": {
          "base_uri": "https://localhost:8080/"
        },
        "id": "8TtFwgwg9Em-",
        "outputId": "f12eae5e-c94f-4130-f41d-e02157777283"
      },
      "execution_count": 26,
      "outputs": [
        {
          "output_type": "stream",
          "name": "stdout",
          "text": [
            "\n",
            "List of Rajaram Maharaj's children:\n",
            "Shivaji Maharaj(Second)\n",
            "Sambhaji Maharaj(Second)\n"
          ]
        }
      ]
    },
    {
      "cell_type": "code",
      "source": [
        "#Who is Sambhaji Maharaj's mother?\n",
        "name = 'Sambhaji Maharaj'\n",
        "output = run(0, x, mother(x, name))[0]\n",
        "print(\"\\n\" + name + \"'s mother:\\n\" + output)"
      ],
      "metadata": {
        "colab": {
          "base_uri": "https://localhost:8080/"
        },
        "id": "8TrpSt1I9GBN",
        "outputId": "a6d45213-6cb7-4f1e-a7cd-1cb407f16add"
      },
      "execution_count": 27,
      "outputs": [
        {
          "output_type": "stream",
          "name": "stdout",
          "text": [
            "\n",
            "Sambhaji Maharaj's mother:\n",
            "Saibai\n"
          ]
        }
      ]
    },
    {
      "cell_type": "code",
      "source": [
        "# Shivaji Maharaj(Second) parents name \n",
        "name = 'Shivaji Maharaj(Second)'\n",
        "output = run(0, x, parent(x, name))\n",
        "print(\"\\nList of \" + name + \"'s parents:\")\n",
        "for item in output:\n",
        "  print(item)"
      ],
      "metadata": {
        "colab": {
          "base_uri": "https://localhost:8080/"
        },
        "id": "xjoMo2CJ9HP_",
        "outputId": "2d071288-f5bf-4a59-e3bd-f84098e86ad5"
      },
      "execution_count": 28,
      "outputs": [
        {
          "output_type": "stream",
          "name": "stdout",
          "text": [
            "\n",
            "List of Shivaji Maharaj(Second)'s parents:\n",
            "Rajaram Maharaj\n",
            "Tarabai\n"
          ]
        }
      ]
    },
    {
      "cell_type": "code",
      "source": [
        "# Shahu Maharaj's grandparents\n",
        "name = 'Shahu Maharaj'\n",
        "output = run(0, x, grandparent(x, name))\n",
        "print(\"\\nList of \" + name + \"'s grandparents:\")\n",
        "for item in output:\n",
        "  print(item)"
      ],
      "metadata": {
        "colab": {
          "base_uri": "https://localhost:8080/"
        },
        "id": "Rnl6_GeK9Iwa",
        "outputId": "6fd5005e-04cd-4231-df07-6c992f4f90e9"
      },
      "execution_count": 29,
      "outputs": [
        {
          "output_type": "stream",
          "name": "stdout",
          "text": [
            "\n",
            "List of Shahu Maharaj's grandparents:\n",
            "Shivaji Maharaj\n",
            "Saibai\n"
          ]
        }
      ]
    },
    {
      "cell_type": "code",
      "source": [
        "# Sambhaji Maharaj's siblings\n",
        "name = 'Sambhaji Maharaj'\n",
        "output = run(0, x, sibling(x, name))\n",
        "siblings = [x for x in output if x != name]\n",
        "print(\"\\nList of \" + name + \"'s siblings:\")\n",
        "for item in siblings:\n",
        "  print(item)"
      ],
      "metadata": {
        "colab": {
          "base_uri": "https://localhost:8080/"
        },
        "id": "1S3BCu009KJP",
        "outputId": "5d441cf8-06a4-4fe7-c0eb-09f106516d29"
      },
      "execution_count": 30,
      "outputs": [
        {
          "output_type": "stream",
          "name": "stdout",
          "text": [
            "\n",
            "List of Sambhaji Maharaj's siblings:\n",
            "RajKunvarbai\n",
            "Sakhubai\n",
            "Kamalabai\n",
            "Ranubai\n",
            "Dipabai\n",
            "Rajaram Maharaj\n",
            "Ambikabai\n"
          ]
        }
      ]
    },
    {
      "cell_type": "code",
      "source": [
        "# Shahu Maharaj's uncle\n",
        "name = 'Shahu Maharaj'\n",
        "name_father = run(0, x, father(x, name))[0]\n",
        "output = run(0, x, uncle(x, name),gender(x,\"male\"))\n",
        "output = [x for x in output if x != name_father]\n",
        "print(\"\\nList of \" + name + \"'s uncles:\")\n",
        "for item in output:\n",
        "  print(item)"
      ],
      "metadata": {
        "colab": {
          "base_uri": "https://localhost:8080/"
        },
        "id": "DbGwxJCt9LQ5",
        "outputId": "0c35e60d-0d64-49a4-ce28-0d0bf0ba05b4"
      },
      "execution_count": 31,
      "outputs": [
        {
          "output_type": "stream",
          "name": "stdout",
          "text": [
            "\n",
            "List of Shahu Maharaj's uncles:\n",
            "Rajaram Maharaj\n"
          ]
        }
      ]
    },
    {
      "cell_type": "code",
      "source": [
        "# All spouses\n",
        "a, b, c = var(), var(), var()\n",
        "output = run(0, (a, b), (father, a, c), (mother, b, c))\n",
        "print(\"\\nList of all spouses:\")\n",
        "for item in output:\n",
        "  print('Husband:', item[0], '<==> Wife:', item[1])"
      ],
      "metadata": {
        "colab": {
          "base_uri": "https://localhost:8080/"
        },
        "id": "236E5YEs9Mkt",
        "outputId": "cb040ff8-df64-48e0-dce3-b4c3c98d5cdb"
      },
      "execution_count": 32,
      "outputs": [
        {
          "output_type": "stream",
          "name": "stdout",
          "text": [
            "\n",
            "List of all spouses:\n",
            "Husband: Shivaji Maharaj <==> Wife: Sagunabai\n",
            "Husband: Shivaji Maharaj <==> Wife: Sakvarbai\n",
            "Husband: Rajaram Maharaj <==> Wife: Tarabai\n",
            "Husband: Shivaji Maharaj <==> Wife: Saibai\n",
            "Husband: Rajaram Maharaj <==> Wife: Rajasbai\n",
            "Husband: Shivaji Maharaj <==> Wife: Soyrabai\n",
            "Husband: Sambhaji Maharaj <==> Wife: Yesubai\n"
          ]
        }
      ]
    },
    {
      "cell_type": "code",
      "source": [],
      "metadata": {
        "id": "CHLooBvq9OEC"
      },
      "execution_count": null,
      "outputs": []
    }
  ]
}